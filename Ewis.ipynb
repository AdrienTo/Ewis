{
 "cells": [
  {
   "cell_type": "markdown",
   "metadata": {},
   "source": [
    "<center >\n",
    "<FONT face=\"Comic Sans MS\" color=#FF0000 size=7> EWIS: Architecture Analysis</FONT><br><br><br>\n",
    "<FONT face=\"Comic Sans MS\"  size=5> Trade-off under uncertainty </FONT><br><br>\n",
    "<em>fabien.mangeant@airbus.com -  pierre.benjamin@airbus.com </em><br>\n",
    "June 2017\n",
    "</center>"
   ]
  },
  {
   "cell_type": "markdown",
   "metadata": {},
   "source": [
    "# Problem Definition"
   ]
  },
  {
   "cell_type": "markdown",
   "metadata": {},
   "source": [
    "## Scenarios:\n",
    "Constraint: Voltage drop < 1 V"
   ]
  },
  {
   "cell_type": "markdown",
   "metadata": {},
   "source": [
    "### Scenario 1: EPDC in Nose Fuselage"
   ]
  },
  {
   "cell_type": "markdown",
   "metadata": {},
   "source": [
    "bla bla\n",
    "<img width=80% src='./Conf1.tiff'>"
   ]
  },
  {
   "cell_type": "markdown",
   "metadata": {
    "collapsed": false
   },
   "source": [
    "### Scenario 2: EPDC in Center Fuselage"
   ]
  },
  {
   "cell_type": "markdown",
   "metadata": {},
   "source": [
    "<img width=80% src='./Conf2.tiff'>"
   ]
  },
  {
   "cell_type": "markdown",
   "metadata": {},
   "source": [
    "## Outputs:\n",
    "- EPDC2 / VU   Harness Weight ( $M_{VU}$ )\n",
    "- EPDC2 / SPDB Harness Weight ( $M_{SPDB}$ )\n",
    "- Total Harness Weight ( $M_{TOT}=M_{VU}+M_{SPDB}$ )\n",
    "- Diameter for EPDC2 / SPDB Harness ($D_{SPDB}$ )\n",
    "\n",
    "Due to a catalog of cable, the formula to obtain theses outputs is of the form:\n",
    "$\n",
    "\\begin{eqnarray*}\n",
    "    \\mathcal M_{SPDB} & = & C_1 . C_2 . \\sum_{i=1}^{N_{SPDB}} \\left( d_i^{SPDB} . \\mu \\{argmax \\{g \\in \\mathcal C : \\rho(g) \\leq \\frac{\\delta V \\times V_0}{d_i \\times \\sum_{j=1}^{N_{PSU}} \\mathbf{\\tilde{P}_{ij}^{PSU}}}\\}\\} \\right) \\\\\n",
    "    \\mathcal M_{VU} & = & C_1 . C_2 . \\sum_{i=1}^{N_{VU}} \\left( d_i^{VU} . \\mu\\{ argmax \\{ g \\in \\mathcal C : \\rho(g) \\leq \\frac{\\delta V \\times V_0}{d_i \\times \\sum_{j=1}^{N_{Eq}} \\mathbf{\\tilde{P}_{ij}^{Eq}}}\\}\\} \\right)\\\\\n",
    "    \\mathcal M_{TOT} & = & \\mathcal M_{SPDB} + \\mathcal M_{VU}\\\\\n",
    "\\end{eqnarray*}\n",
    "$\n",
    "\n"
   ]
  },
  {
   "cell_type": "markdown",
   "metadata": {},
   "source": [
    "## Probabilistic Model:\n",
    "\n",
    "<em> Model for unitary equipment </em>\n",
    "\n",
    "<table>\n",
    "<tr>\n",
    "<td> <img width=300px src='./SPDB.tiff'> </td>\n",
    "<td> <img width=300px src='./VU.tiff'> </td>\n",
    "</tr>\n",
    "<tr>\n",
    "<td> <center> <b> Variability of equipment usage </b></center></td>\n",
    "<td> <center> <b> Maturity of productiondefinition </b></center> </td>\n",
    "</tr>\n",
    "\n",
    "\n",
    "\n",
    "* Correlation  component for random vector:\n",
    "\n"
   ]
  },
  {
   "cell_type": "markdown",
   "metadata": {
    "ExecuteTime": {
     "end_time": "2017-06-01T07:38:05.019448",
     "start_time": "2017-06-01T07:38:05.009241"
    }
   },
   "source": [
    "* Assumption: Independence component for random vector:\n",
    "<img src='./ModelProba.tiff' width=95%>\n",
    "\n",
    "<b> Warning Assumption: correlation inside SPDB Power random Verctor? </b>"
   ]
  },
  {
   "cell_type": "markdown",
   "metadata": {},
   "source": [
    "# Results"
   ]
  },
  {
   "cell_type": "markdown",
   "metadata": {},
   "source": [
    "## Mass SPDF"
   ]
  },
  {
   "cell_type": "markdown",
   "metadata": {
    "collapsed": true,
    "run_control": {
     "frozen": false,
     "read_only": false
    }
   },
   "source": [
    "<table>\n",
    "    <tr>\n",
    "        <th> <center>  </center></th>\n",
    "        <th> <center> Scenario 1 </center></th>\n",
    "        <th> <center> Scenario 2 </center></th>\n",
    "    </tr>\n",
    "    <tr>\n",
    "        <td>   </td>\n",
    "        <td> <img width=300px src='./Scenario1/Mass SPDBCDF.png'> </td>\n",
    "        <td> <img width=300px src='./Scenario2/Mass SPDBCDF.png'> </td>\n",
    "    </tr>\n",
    "    <tr>\n",
    "        <td> <b> Quantile 90% </b>  </td>\n",
    "        <td> <center>17.04 Kg </center></td>\n",
    "        <td> <center>5.01 Kg    </center></td>\n",
    "    </tr>\n",
    "    <tr>\n",
    "        <td> <b> Quantile 99% </b>  </td>\n",
    "        <td> <center>18.24 Kg </center></td>\n",
    "        <td> <center>5.22 Kg    </center></td>\n",
    "    </tr>\n",
    "\n",
    "\n",
    "</table>\n",
    "\n",
    "\n"
   ]
  },
  {
   "cell_type": "markdown",
   "metadata": {},
   "source": [
    "## Mass VU\n"
   ]
  },
  {
   "cell_type": "markdown",
   "metadata": {},
   "source": [
    "<table>\n",
    "    <tr>\n",
    "        <th> <center>  </center></th>\n",
    "        <th> <center> Scenario 1 </center></th>\n",
    "        <th> <center> Scenario 2 </center></th>\n",
    "    </tr>\n",
    "    <tr>\n",
    "        <td>   </td>\n",
    "        <td> <img width=300px src='./Scenario1/Mass VUCDF.png'> </td>\n",
    "        <td> <img width=300px src='./Scenario2/Mass VUCDF.png'> </td>\n",
    "    </tr>\n",
    "    <tr>\n",
    "        <td> <b> Quantile 90% </b>  </td>\n",
    "        <td> <center>1.58 Kg </center></td>\n",
    "        <td> <center>6.22 Kg    </center></td>\n",
    "    </tr>\n",
    "    <tr>\n",
    "        <td> <b> Quantile 99% </b>  </td>\n",
    "        <td> <center>1.73 Kg </center></td>\n",
    "        <td> <center>6.72 Kg    </center></td>\n",
    "    </tr>\n",
    "\n",
    "</table>\n",
    "\n"
   ]
  },
  {
   "cell_type": "markdown",
   "metadata": {},
   "source": [
    "## Mass TOTAL\n",
    "\n"
   ]
  },
  {
   "cell_type": "markdown",
   "metadata": {
    "ExecuteTime": {
     "end_time": "2017-05-31T13:56:36.477870",
     "start_time": "2017-05-31T13:56:36.471561"
    }
   },
   "source": [
    "<table>\n",
    "    <tr>\n",
    "        <th> <center>  </center></th>\n",
    "        <th> <center> Scenario 1 </center></th>\n",
    "        <th> <center> Scenario 2 </center></th>\n",
    "    </tr>\n",
    "    <tr>\n",
    "        <td>   </td>\n",
    "        <td> <img width=300px src='./Scenario1/Mass TOTCDF.png'> </td>\n",
    "        <td> <img width=300px src='./Scenario2/Mass TOTCDF.png'> </td>\n",
    "    </tr>\n",
    "    <tr>\n",
    "        <td> <b> Quantile 90% </b>  </td>\n",
    "        <td> <center>31.27 Kg </center></td>\n",
    "        <td> <center>18.65 Kg    </center></td>\n",
    "    </tr>\n",
    "    <tr>\n",
    "        <td> <b> Quantile 99% </b>  </td>\n",
    "        <td> <center>32.75 Kg </center></td>\n",
    "        <td> <center>19.20 Kg    </center></td>\n",
    "    </tr>\n",
    "\n",
    "</table>\n",
    "\n",
    "\n"
   ]
  },
  {
   "cell_type": "code",
   "execution_count": null,
   "metadata": {
    "collapsed": true,
    "run_control": {
     "frozen": false,
     "read_only": false
    }
   },
   "outputs": [],
   "source": []
  }
 ],
 "metadata": {
  "kernelspec": {
   "display_name": "Python 2",
   "language": "python",
   "name": "python2"
  },
  "language_info": {
   "codemirror_mode": {
    "name": "ipython",
    "version": 2
   },
   "file_extension": ".py",
   "mimetype": "text/x-python",
   "name": "python",
   "nbconvert_exporter": "python",
   "pygments_lexer": "ipython2",
   "version": "2.7.12"
  },
  "latex_envs": {
   "bibliofile": "biblio.bib",
   "cite_by": "apalike",
   "current_citInitial": 1,
   "eqLabelWithNumbers": true,
   "eqNumInitial": 0
  },
  "toc": {
   "nav_menu": {
    "height": "48px",
    "width": "252px"
   },
   "navigate_menu": true,
   "number_sections": true,
   "sideBar": true,
   "threshold": 4,
   "toc_cell": false,
   "toc_position": {
    "height": "572px",
    "left": "0px",
    "right": "auto",
    "top": "130px",
    "width": "289px"
   },
   "toc_section_display": "block",
   "toc_window_display": true
  }
 },
 "nbformat": 4,
 "nbformat_minor": 0
}
