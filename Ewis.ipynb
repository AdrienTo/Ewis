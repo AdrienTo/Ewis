{
 "cells": [
  {
   "cell_type": "markdown",
   "metadata": {},
   "source": [
    "<center >\n",
    "<FONT face=\"Comic Sans MS\" color=#FF0000 size=7> EWIS: Architecture Analysis</FONT><br><br><br>\n",
    "<FONT face=\"Comic Sans MS\"  size=5> Trade-off with probabilistic approach </FONT><br><br>\n",
    "<em>fabien.mangeant@airbus.com -  pierre.benjamin@airbus.com </em><br>\n",
    "June 2017\n",
    "</center>"
   ]
  },
  {
   "cell_type": "markdown",
   "metadata": {},
   "source": [
    "# Problem Definition"
   ]
  },
  {
   "cell_type": "markdown",
   "metadata": {},
   "source": [
    "## Scenarios:\n",
    "Constraint: Voltage drop < 2.5 V"
   ]
  },
  {
   "cell_type": "markdown",
   "metadata": {},
   "source": [
    "### Scenario 1: EPDC in Nose Fuselage"
   ]
  },
  {
   "cell_type": "markdown",
   "metadata": {},
   "source": [
    "bla bla\n",
    "<img width=80% src='./Conf1.tiff'>"
   ]
  },
  {
   "cell_type": "markdown",
   "metadata": {
    "collapsed": false
   },
   "source": [
    "### Scenario 2: EPDC in Center Fuselage"
   ]
  },
  {
   "cell_type": "markdown",
   "metadata": {},
   "source": [
    "<img width=80% src='./Conf2.tiff'>"
   ]
  },
  {
   "cell_type": "markdown",
   "metadata": {},
   "source": [
    "## Outputs:\n",
    "- EPDC2 / VU   Harness Weight ( $M_{VU}$ )\n",
    "- EPDC2 / SPDB Harness Weight ( $M_{SPDB}$ )\n",
    "- Total Harness Weight ( $M_{TOT}=M_{VU}+M_{SPDB}$ )\n",
    "- Diameter for EPDC2 / SPDB Harness ($D_{SPDB}$ )\n",
    "\n",
    "Due to a catalog of cable, the formula to obtain theses outputs is of the form:\n",
    "\n",
    "\n",
    "$$\\sum \\limits_{i} M_{VU_{i,j}} \\;\\;\\;   j\\; | \\;\\{ M_{VU_{i,j}} = \\min_{j'}  M_{VU_{i,j'}} \\; , \\; V_{Drop} (VU_{i,j'}) < 2.5\\}\\ $$"
   ]
  },
  {
   "cell_type": "markdown",
   "metadata": {},
   "source": [
    "## Probabilistic Model:\n",
    "bla bla\n",
    "<img width=300px src='./SPDB.tiff'>\n",
    "<img width=300px src='./VU.tiff'>\n",
    "\n",
    "\n"
   ]
  },
  {
   "cell_type": "markdown",
   "metadata": {
    "collapsed": true,
    "run_control": {
     "frozen": false,
     "read_only": false
    }
   },
   "source": [
    "<img width=300px src='./Scenario1/Mass SPDBCDF.png'>\n",
    "<img width=300px src='./Scenario2/Mass SPDBCDF.png'>"
   ]
  },
  {
   "cell_type": "code",
   "execution_count": null,
   "metadata": {
    "collapsed": true
   },
   "outputs": [],
   "source": []
  }
 ],
 "metadata": {
  "kernelspec": {
   "display_name": "Python 2",
   "language": "python",
   "name": "python2"
  },
  "language_info": {
   "codemirror_mode": {
    "name": "ipython",
    "version": 2
   },
   "file_extension": ".py",
   "mimetype": "text/x-python",
   "name": "python",
   "nbconvert_exporter": "python",
   "pygments_lexer": "ipython2",
   "version": "2.7.12"
  },
  "latex_envs": {
   "bibliofile": "biblio.bib",
   "cite_by": "apalike",
   "current_citInitial": 1,
   "eqLabelWithNumbers": true,
   "eqNumInitial": 0
  },
  "toc": {
   "nav_menu": {
    "height": "48px",
    "width": "252px"
   },
   "navigate_menu": true,
   "number_sections": true,
   "sideBar": true,
   "threshold": 4,
   "toc_cell": false,
   "toc_position": {
    "height": "572px",
    "left": "0px",
    "right": "auto",
    "top": "130px",
    "width": "289px"
   },
   "toc_section_display": "block",
   "toc_window_display": true
  }
 },
 "nbformat": 4,
 "nbformat_minor": 0
}
